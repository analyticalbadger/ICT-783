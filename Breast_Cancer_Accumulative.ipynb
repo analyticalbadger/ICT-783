{
 "cells": [
  {
   "cell_type": "markdown",
   "metadata": {},
   "source": [
    "# Breast Cancer Accumulative Project"
   ]
  },
  {
   "cell_type": "markdown",
   "metadata": {},
   "source": [
    "### Import Libraries"
   ]
  },
  {
   "cell_type": "code",
   "execution_count": 1,
   "metadata": {},
   "outputs": [
    {
     "name": "stderr",
     "output_type": "stream",
     "text": [
      "Using TensorFlow backend.\n",
      "C:\\Users\\Sheldon\\Anaconda3\\lib\\site-packages\\tensorflow\\python\\framework\\dtypes.py:526: FutureWarning: Passing (type, 1) or '1type' as a synonym of type is deprecated; in a future version of numpy, it will be understood as (type, (1,)) / '(1,)type'.\n",
      "  _np_qint8 = np.dtype([(\"qint8\", np.int8, 1)])\n",
      "C:\\Users\\Sheldon\\Anaconda3\\lib\\site-packages\\tensorflow\\python\\framework\\dtypes.py:527: FutureWarning: Passing (type, 1) or '1type' as a synonym of type is deprecated; in a future version of numpy, it will be understood as (type, (1,)) / '(1,)type'.\n",
      "  _np_quint8 = np.dtype([(\"quint8\", np.uint8, 1)])\n",
      "C:\\Users\\Sheldon\\Anaconda3\\lib\\site-packages\\tensorflow\\python\\framework\\dtypes.py:528: FutureWarning: Passing (type, 1) or '1type' as a synonym of type is deprecated; in a future version of numpy, it will be understood as (type, (1,)) / '(1,)type'.\n",
      "  _np_qint16 = np.dtype([(\"qint16\", np.int16, 1)])\n",
      "C:\\Users\\Sheldon\\Anaconda3\\lib\\site-packages\\tensorflow\\python\\framework\\dtypes.py:529: FutureWarning: Passing (type, 1) or '1type' as a synonym of type is deprecated; in a future version of numpy, it will be understood as (type, (1,)) / '(1,)type'.\n",
      "  _np_quint16 = np.dtype([(\"quint16\", np.uint16, 1)])\n",
      "C:\\Users\\Sheldon\\Anaconda3\\lib\\site-packages\\tensorflow\\python\\framework\\dtypes.py:530: FutureWarning: Passing (type, 1) or '1type' as a synonym of type is deprecated; in a future version of numpy, it will be understood as (type, (1,)) / '(1,)type'.\n",
      "  _np_qint32 = np.dtype([(\"qint32\", np.int32, 1)])\n",
      "C:\\Users\\Sheldon\\Anaconda3\\lib\\site-packages\\tensorflow\\python\\framework\\dtypes.py:535: FutureWarning: Passing (type, 1) or '1type' as a synonym of type is deprecated; in a future version of numpy, it will be understood as (type, (1,)) / '(1,)type'.\n",
      "  np_resource = np.dtype([(\"resource\", np.ubyte, 1)])\n"
     ]
    }
   ],
   "source": [
    "import pandas as pd\n",
    "import numpy as np\n",
    "\n",
    "from sklearn.preprocessing import LabelEncoder\n",
    "from sklearn.model_selection import train_test_split\n",
    "from sklearn.preprocessing import StandardScaler\n",
    "from sklearn.neural_network import MLPClassifier\n",
    "from sklearn.neural_network import MLPRegressor\n",
    "from sklearn.model_selection import cross_val_score\n",
    "from sklearn.metrics import accuracy_score\n",
    "from sklearn.metrics import r2_score\n",
    "from sklearn.metrics import confusion_matrix\n",
    "\n",
    "from keras.models import Sequential\n",
    "from keras.layers import Dense"
   ]
  },
  {
   "cell_type": "markdown",
   "metadata": {},
   "source": [
    "### Import Data and Explore"
   ]
  },
  {
   "cell_type": "code",
   "execution_count": 2,
   "metadata": {},
   "outputs": [],
   "source": [
    "bc = pd.read_csv('data_refined.csv')"
   ]
  },
  {
   "cell_type": "code",
   "execution_count": 3,
   "metadata": {},
   "outputs": [
    {
     "data": {
      "text/html": [
       "<div>\n",
       "<style scoped>\n",
       "    .dataframe tbody tr th:only-of-type {\n",
       "        vertical-align: middle;\n",
       "    }\n",
       "\n",
       "    .dataframe tbody tr th {\n",
       "        vertical-align: top;\n",
       "    }\n",
       "\n",
       "    .dataframe thead th {\n",
       "        text-align: right;\n",
       "    }\n",
       "</style>\n",
       "<table border=\"1\" class=\"dataframe\">\n",
       "  <thead>\n",
       "    <tr style=\"text-align: right;\">\n",
       "      <th></th>\n",
       "      <th>diagnosis</th>\n",
       "      <th>radius_mean</th>\n",
       "      <th>texture_mean</th>\n",
       "      <th>perimeter_mean</th>\n",
       "      <th>area_mean</th>\n",
       "      <th>smoothness_mean</th>\n",
       "      <th>compactness_mean</th>\n",
       "      <th>concavity_mean</th>\n",
       "      <th>concave points_mean</th>\n",
       "      <th>symmetry_mean</th>\n",
       "      <th>...</th>\n",
       "      <th>radius_worst</th>\n",
       "      <th>texture_worst</th>\n",
       "      <th>perimeter_worst</th>\n",
       "      <th>area_worst</th>\n",
       "      <th>smoothness_worst</th>\n",
       "      <th>compactness_worst</th>\n",
       "      <th>concavity_worst</th>\n",
       "      <th>concave points_worst</th>\n",
       "      <th>symmetry_worst</th>\n",
       "      <th>fractal_dimension_worst</th>\n",
       "    </tr>\n",
       "  </thead>\n",
       "  <tbody>\n",
       "    <tr>\n",
       "      <th>0</th>\n",
       "      <td>1</td>\n",
       "      <td>1.097064</td>\n",
       "      <td>-2.073335</td>\n",
       "      <td>1.269934</td>\n",
       "      <td>0.984375</td>\n",
       "      <td>1.568466</td>\n",
       "      <td>3.283515</td>\n",
       "      <td>2.652874</td>\n",
       "      <td>2.532475</td>\n",
       "      <td>2.217515</td>\n",
       "      <td>...</td>\n",
       "      <td>1.886690</td>\n",
       "      <td>-1.359293</td>\n",
       "      <td>2.303601</td>\n",
       "      <td>2.001237</td>\n",
       "      <td>1.307686</td>\n",
       "      <td>2.616665</td>\n",
       "      <td>2.109526</td>\n",
       "      <td>2.296076</td>\n",
       "      <td>2.750622</td>\n",
       "      <td>1.937015</td>\n",
       "    </tr>\n",
       "    <tr>\n",
       "      <th>1</th>\n",
       "      <td>1</td>\n",
       "      <td>1.829821</td>\n",
       "      <td>-0.353632</td>\n",
       "      <td>1.685955</td>\n",
       "      <td>1.908708</td>\n",
       "      <td>-0.826962</td>\n",
       "      <td>-0.487072</td>\n",
       "      <td>-0.023846</td>\n",
       "      <td>0.548144</td>\n",
       "      <td>0.001392</td>\n",
       "      <td>...</td>\n",
       "      <td>1.805927</td>\n",
       "      <td>-0.369203</td>\n",
       "      <td>1.535126</td>\n",
       "      <td>1.890489</td>\n",
       "      <td>-0.375612</td>\n",
       "      <td>-0.430444</td>\n",
       "      <td>-0.146749</td>\n",
       "      <td>1.087084</td>\n",
       "      <td>-0.243890</td>\n",
       "      <td>0.281190</td>\n",
       "    </tr>\n",
       "    <tr>\n",
       "      <th>2</th>\n",
       "      <td>1</td>\n",
       "      <td>1.579888</td>\n",
       "      <td>0.456187</td>\n",
       "      <td>1.566503</td>\n",
       "      <td>1.558884</td>\n",
       "      <td>0.942210</td>\n",
       "      <td>1.052926</td>\n",
       "      <td>1.363478</td>\n",
       "      <td>2.037231</td>\n",
       "      <td>0.939685</td>\n",
       "      <td>...</td>\n",
       "      <td>1.511870</td>\n",
       "      <td>-0.023974</td>\n",
       "      <td>1.347475</td>\n",
       "      <td>1.456285</td>\n",
       "      <td>0.527407</td>\n",
       "      <td>1.082932</td>\n",
       "      <td>0.854974</td>\n",
       "      <td>1.955000</td>\n",
       "      <td>1.152255</td>\n",
       "      <td>0.201391</td>\n",
       "    </tr>\n",
       "    <tr>\n",
       "      <th>3</th>\n",
       "      <td>1</td>\n",
       "      <td>-0.768909</td>\n",
       "      <td>0.253732</td>\n",
       "      <td>-0.592687</td>\n",
       "      <td>-0.764464</td>\n",
       "      <td>3.283553</td>\n",
       "      <td>3.402909</td>\n",
       "      <td>1.915897</td>\n",
       "      <td>1.451707</td>\n",
       "      <td>2.867383</td>\n",
       "      <td>...</td>\n",
       "      <td>-0.281464</td>\n",
       "      <td>0.133984</td>\n",
       "      <td>-0.249939</td>\n",
       "      <td>-0.550021</td>\n",
       "      <td>3.394275</td>\n",
       "      <td>3.893397</td>\n",
       "      <td>1.989588</td>\n",
       "      <td>2.175786</td>\n",
       "      <td>6.046041</td>\n",
       "      <td>4.935010</td>\n",
       "    </tr>\n",
       "    <tr>\n",
       "      <th>4</th>\n",
       "      <td>1</td>\n",
       "      <td>1.750297</td>\n",
       "      <td>-1.151816</td>\n",
       "      <td>1.776573</td>\n",
       "      <td>1.826229</td>\n",
       "      <td>0.280372</td>\n",
       "      <td>0.539340</td>\n",
       "      <td>1.371011</td>\n",
       "      <td>1.428493</td>\n",
       "      <td>-0.009560</td>\n",
       "      <td>...</td>\n",
       "      <td>1.298575</td>\n",
       "      <td>-1.466770</td>\n",
       "      <td>1.338539</td>\n",
       "      <td>1.220724</td>\n",
       "      <td>0.220556</td>\n",
       "      <td>-0.313395</td>\n",
       "      <td>0.613179</td>\n",
       "      <td>0.729259</td>\n",
       "      <td>-0.868353</td>\n",
       "      <td>-0.397100</td>\n",
       "    </tr>\n",
       "  </tbody>\n",
       "</table>\n",
       "<p>5 rows × 31 columns</p>\n",
       "</div>"
      ],
      "text/plain": [
       "   diagnosis  radius_mean  texture_mean  perimeter_mean  area_mean  \\\n",
       "0          1     1.097064     -2.073335        1.269934   0.984375   \n",
       "1          1     1.829821     -0.353632        1.685955   1.908708   \n",
       "2          1     1.579888      0.456187        1.566503   1.558884   \n",
       "3          1    -0.768909      0.253732       -0.592687  -0.764464   \n",
       "4          1     1.750297     -1.151816        1.776573   1.826229   \n",
       "\n",
       "   smoothness_mean  compactness_mean  concavity_mean  concave points_mean  \\\n",
       "0         1.568466          3.283515        2.652874             2.532475   \n",
       "1        -0.826962         -0.487072       -0.023846             0.548144   \n",
       "2         0.942210          1.052926        1.363478             2.037231   \n",
       "3         3.283553          3.402909        1.915897             1.451707   \n",
       "4         0.280372          0.539340        1.371011             1.428493   \n",
       "\n",
       "   symmetry_mean  ...  radius_worst  texture_worst  perimeter_worst  \\\n",
       "0       2.217515  ...      1.886690      -1.359293         2.303601   \n",
       "1       0.001392  ...      1.805927      -0.369203         1.535126   \n",
       "2       0.939685  ...      1.511870      -0.023974         1.347475   \n",
       "3       2.867383  ...     -0.281464       0.133984        -0.249939   \n",
       "4      -0.009560  ...      1.298575      -1.466770         1.338539   \n",
       "\n",
       "   area_worst  smoothness_worst  compactness_worst  concavity_worst  \\\n",
       "0    2.001237          1.307686           2.616665         2.109526   \n",
       "1    1.890489         -0.375612          -0.430444        -0.146749   \n",
       "2    1.456285          0.527407           1.082932         0.854974   \n",
       "3   -0.550021          3.394275           3.893397         1.989588   \n",
       "4    1.220724          0.220556          -0.313395         0.613179   \n",
       "\n",
       "   concave points_worst  symmetry_worst  fractal_dimension_worst  \n",
       "0              2.296076        2.750622                 1.937015  \n",
       "1              1.087084       -0.243890                 0.281190  \n",
       "2              1.955000        1.152255                 0.201391  \n",
       "3              2.175786        6.046041                 4.935010  \n",
       "4              0.729259       -0.868353                -0.397100  \n",
       "\n",
       "[5 rows x 31 columns]"
      ]
     },
     "execution_count": 3,
     "metadata": {},
     "output_type": "execute_result"
    }
   ],
   "source": [
    "bc.head()"
   ]
  },
  {
   "cell_type": "code",
   "execution_count": 4,
   "metadata": {},
   "outputs": [
    {
     "name": "stdout",
     "output_type": "stream",
     "text": [
      "<class 'pandas.core.frame.DataFrame'>\n",
      "RangeIndex: 569 entries, 0 to 568\n",
      "Data columns (total 31 columns):\n",
      " #   Column                   Non-Null Count  Dtype  \n",
      "---  ------                   --------------  -----  \n",
      " 0   diagnosis                569 non-null    int64  \n",
      " 1   radius_mean              569 non-null    float64\n",
      " 2   texture_mean             569 non-null    float64\n",
      " 3   perimeter_mean           569 non-null    float64\n",
      " 4   area_mean                569 non-null    float64\n",
      " 5   smoothness_mean          569 non-null    float64\n",
      " 6   compactness_mean         569 non-null    float64\n",
      " 7   concavity_mean           569 non-null    float64\n",
      " 8   concave points_mean      569 non-null    float64\n",
      " 9   symmetry_mean            569 non-null    float64\n",
      " 10  fractal_dimension_mean   569 non-null    float64\n",
      " 11  radius_se                569 non-null    float64\n",
      " 12  texture_se               569 non-null    float64\n",
      " 13  perimeter_se             569 non-null    float64\n",
      " 14  area_se                  569 non-null    float64\n",
      " 15  smoothness_se            569 non-null    float64\n",
      " 16  compactness_se           569 non-null    float64\n",
      " 17  concavity_se             569 non-null    float64\n",
      " 18  concave points_se        569 non-null    float64\n",
      " 19  symmetry_se              569 non-null    float64\n",
      " 20  fractal_dimension_se     569 non-null    float64\n",
      " 21  radius_worst             569 non-null    float64\n",
      " 22  texture_worst            569 non-null    float64\n",
      " 23  perimeter_worst          569 non-null    float64\n",
      " 24  area_worst               569 non-null    float64\n",
      " 25  smoothness_worst         569 non-null    float64\n",
      " 26  compactness_worst        569 non-null    float64\n",
      " 27  concavity_worst          569 non-null    float64\n",
      " 28  concave points_worst     569 non-null    float64\n",
      " 29  symmetry_worst           569 non-null    float64\n",
      " 30  fractal_dimension_worst  569 non-null    float64\n",
      "dtypes: float64(30), int64(1)\n",
      "memory usage: 137.9 KB\n"
     ]
    }
   ],
   "source": [
    "bc.info()"
   ]
  },
  {
   "cell_type": "markdown",
   "metadata": {},
   "source": [
    "### Preprocessing"
   ]
  },
  {
   "cell_type": "code",
   "execution_count": 5,
   "metadata": {},
   "outputs": [],
   "source": [
    "X = bc.drop(['diagnosis'],axis=1)\n",
    "y = bc['diagnosis']"
   ]
  },
  {
   "cell_type": "code",
   "execution_count": 6,
   "metadata": {},
   "outputs": [],
   "source": [
    "# Split the data, 80% training, 10% test, 10% validation\n",
    "X_train, X_test, y_train, y_test = train_test_split(X,y,test_size=0.2,random_state=0)\n",
    "X_test, X_val, y_test, y_val = train_test_split(X_train,y_train,test_size=0.5,random_state=1)"
   ]
  },
  {
   "cell_type": "markdown",
   "metadata": {},
   "source": [
    "### Model"
   ]
  },
  {
   "cell_type": "code",
   "execution_count": 7,
   "metadata": {},
   "outputs": [
    {
     "name": "stdout",
     "output_type": "stream",
     "text": [
      "Accuracy: 100.0%\n",
      "[[142   0]\n",
      " [  0  85]]\n"
     ]
    }
   ],
   "source": [
    "#MLP\n",
    "model =MLPClassifier(hidden_layer_sizes=(100,100, ),activation='relu',solver='adam',batch_size=20,max_iter=100,random_state=42)\n",
    "model.fit(X_train, y_train)\n",
    "score = model.score(X_test,y_test)\n",
    "print('Accuracy: '+str(score*100)+'%')\n",
    "y_pred = model.predict(X_test)\n",
    "conf = confusion_matrix(y_test,y_pred)\n",
    "print(conf)"
   ]
  },
  {
   "cell_type": "code",
   "execution_count": 8,
   "metadata": {},
   "outputs": [
    {
     "name": "stdout",
     "output_type": "stream",
     "text": [
      "WARNING:tensorflow:From C:\\Users\\Sheldon\\Anaconda3\\lib\\site-packages\\tensorflow\\python\\framework\\op_def_library.py:263: colocate_with (from tensorflow.python.framework.ops) is deprecated and will be removed in a future version.\n",
      "Instructions for updating:\n",
      "Colocations handled automatically by placer.\n"
     ]
    }
   ],
   "source": [
    "#ANN\n",
    "model = Sequential()\n",
    "model.add(Dense(input_shape=(30,),units=30,activation='relu'))\n",
    "model.add(Dense(units=100,activation='relu'))\n",
    "model.add(Dense(units=100,activation='relu'))\n",
    "model.add(Dense(units=1,activation='relu'))"
   ]
  },
  {
   "cell_type": "code",
   "execution_count": 9,
   "metadata": {},
   "outputs": [
    {
     "name": "stdout",
     "output_type": "stream",
     "text": [
      "_________________________________________________________________\n",
      "Layer (type)                 Output Shape              Param #   \n",
      "=================================================================\n",
      "dense_1 (Dense)              (None, 30)                930       \n",
      "_________________________________________________________________\n",
      "dense_2 (Dense)              (None, 100)               3100      \n",
      "_________________________________________________________________\n",
      "dense_3 (Dense)              (None, 100)               10100     \n",
      "_________________________________________________________________\n",
      "dense_4 (Dense)              (None, 1)                 101       \n",
      "=================================================================\n",
      "Total params: 14,231\n",
      "Trainable params: 14,231\n",
      "Non-trainable params: 0\n",
      "_________________________________________________________________\n"
     ]
    }
   ],
   "source": [
    "model.summary()"
   ]
  },
  {
   "cell_type": "code",
   "execution_count": 10,
   "metadata": {},
   "outputs": [],
   "source": [
    "# Compile Model\n",
    "model.compile(optimizer='adam',loss='mean_squared_error',metrics=['accuracy'])"
   ]
  },
  {
   "cell_type": "code",
   "execution_count": 11,
   "metadata": {},
   "outputs": [
    {
     "name": "stdout",
     "output_type": "stream",
     "text": [
      "WARNING:tensorflow:From C:\\Users\\Sheldon\\Anaconda3\\lib\\site-packages\\tensorflow\\python\\ops\\math_ops.py:3066: to_int32 (from tensorflow.python.ops.math_ops) is deprecated and will be removed in a future version.\n",
      "Instructions for updating:\n",
      "Use tf.cast instead.\n",
      "Epoch 1/10\n",
      "455/455 [==============================] - 0s 1ms/step - loss: 0.1455 - acc: 0.8220\n",
      "Epoch 2/10\n",
      "455/455 [==============================] - 0s 53us/step - loss: 0.0710 - acc: 0.9099\n",
      "Epoch 3/10\n",
      "455/455 [==============================] - 0s 53us/step - loss: 0.0451 - acc: 0.9451\n",
      "Epoch 4/10\n",
      "455/455 [==============================] - 0s 55us/step - loss: 0.0405 - acc: 0.9626\n",
      "Epoch 5/10\n",
      "455/455 [==============================] - 0s 59us/step - loss: 0.0297 - acc: 0.9736\n",
      "Epoch 6/10\n",
      "455/455 [==============================] - 0s 53us/step - loss: 0.0251 - acc: 0.9868\n",
      "Epoch 7/10\n",
      "455/455 [==============================] - 0s 59us/step - loss: 0.0226 - acc: 0.9824\n",
      "Epoch 8/10\n",
      "455/455 [==============================] - 0s 53us/step - loss: 0.0193 - acc: 0.9868\n",
      "Epoch 9/10\n",
      "455/455 [==============================] - 0s 59us/step - loss: 0.0167 - acc: 0.9868\n",
      "Epoch 10/10\n",
      "455/455 [==============================] - 0s 105us/step - loss: 0.0159 - acc: 0.9934\n"
     ]
    },
    {
     "data": {
      "text/plain": [
       "<keras.callbacks.History at 0x267ae472470>"
      ]
     },
     "execution_count": 11,
     "metadata": {},
     "output_type": "execute_result"
    }
   ],
   "source": [
    "# Train Model\n",
    "model.fit(X_train,y_train,epochs=10,batch_size=32)"
   ]
  },
  {
   "cell_type": "code",
   "execution_count": 12,
   "metadata": {},
   "outputs": [
    {
     "name": "stdout",
     "output_type": "stream",
     "text": [
      "227/227 [==============================] - 0s 409us/step\n",
      "Accuracy: 99.11894273127754%\n",
      "[[142   0]\n",
      " [  0  85]]\n"
     ]
    }
   ],
   "source": [
    "# Test the Model\n",
    "loss, accuracy = model.evaluate(X_test,y_test)\n",
    "print('Accuracy: '+str(accuracy*100)+'%')\n",
    "conf = confusion_matrix(y_test,y_pred)\n",
    "print(conf)"
   ]
  },
  {
   "cell_type": "markdown",
   "metadata": {},
   "source": [
    "### Import Insurance Data"
   ]
  },
  {
   "cell_type": "code",
   "execution_count": 13,
   "metadata": {},
   "outputs": [],
   "source": [
    "ins = pd.read_csv('insurance.csv')"
   ]
  },
  {
   "cell_type": "markdown",
   "metadata": {},
   "source": [
    "### Preprocessing"
   ]
  },
  {
   "cell_type": "code",
   "execution_count": 14,
   "metadata": {},
   "outputs": [],
   "source": [
    "# Encode categorical columns\n",
    "encoder = LabelEncoder()\n",
    "ins['sex'] = encoder.fit_transform(ins['sex'])\n",
    "ins['smoker'] = encoder.fit_transform(ins['smoker'])\n",
    "ins['region'] = encoder.fit_transform(ins['region'])"
   ]
  },
  {
   "cell_type": "code",
   "execution_count": 15,
   "metadata": {},
   "outputs": [],
   "source": [
    "X = ins.drop(['charges'],axis=1)\n",
    "y = ins['charges']"
   ]
  },
  {
   "cell_type": "code",
   "execution_count": 16,
   "metadata": {},
   "outputs": [],
   "source": [
    "# Split the data, 80% training, 10% test, 10% validation\n",
    "X_train, X_test, y_train, y_test = train_test_split(X,y,test_size=0.2,random_state=0)\n",
    "X_test, X_val, y_test, y_val = train_test_split(X_train,y_train,test_size=0.5,random_state=1)"
   ]
  },
  {
   "cell_type": "code",
   "execution_count": 17,
   "metadata": {},
   "outputs": [],
   "source": [
    "scaler = StandardScaler()\n",
    "X_train = scaler.fit_transform(X_train)\n",
    "X_test = scaler.transform(X_test)"
   ]
  },
  {
   "cell_type": "markdown",
   "metadata": {},
   "source": [
    "### Model"
   ]
  },
  {
   "cell_type": "code",
   "execution_count": 18,
   "metadata": {},
   "outputs": [
    {
     "name": "stdout",
     "output_type": "stream",
     "text": [
      "r2_score: 0.8706734155881792\n"
     ]
    }
   ],
   "source": [
    "#MLP\n",
    "model = MLPRegressor(hidden_layer_sizes=(100,100,),activation='relu',solver='adam',batch_size=20,max_iter=1000,random_state=0)\n",
    "model.fit(X_train,y_train)\n",
    "score = model.score(X_test,y_test)\n",
    "y_pred = model.predict(X_test)\n",
    "print('r2_score: '+str(r2_score(y_test, y_pred)))"
   ]
  },
  {
   "cell_type": "code",
   "execution_count": 19,
   "metadata": {},
   "outputs": [],
   "source": [
    "#ANN\n",
    "model = Sequential()\n",
    "model.add(Dense(input_dim=6,units=36,activation='relu'))\n",
    "model.add(Dense(units=100,activation='relu'))\n",
    "model.add(Dense(units=100,activation='relu'))\n",
    "model.add(Dense(units=1,activation='relu'))"
   ]
  },
  {
   "cell_type": "code",
   "execution_count": 20,
   "metadata": {},
   "outputs": [
    {
     "name": "stdout",
     "output_type": "stream",
     "text": [
      "_________________________________________________________________\n",
      "Layer (type)                 Output Shape              Param #   \n",
      "=================================================================\n",
      "dense_5 (Dense)              (None, 36)                252       \n",
      "_________________________________________________________________\n",
      "dense_6 (Dense)              (None, 100)               3700      \n",
      "_________________________________________________________________\n",
      "dense_7 (Dense)              (None, 100)               10100     \n",
      "_________________________________________________________________\n",
      "dense_8 (Dense)              (None, 1)                 101       \n",
      "=================================================================\n",
      "Total params: 14,153\n",
      "Trainable params: 14,153\n",
      "Non-trainable params: 0\n",
      "_________________________________________________________________\n"
     ]
    }
   ],
   "source": [
    "model.summary()"
   ]
  },
  {
   "cell_type": "code",
   "execution_count": 21,
   "metadata": {},
   "outputs": [],
   "source": [
    "# Compile Model\n",
    "model.compile(optimizer='adam',loss='mean_squared_error',metrics=['accuracy'])"
   ]
  },
  {
   "cell_type": "code",
   "execution_count": 22,
   "metadata": {},
   "outputs": [
    {
     "name": "stdout",
     "output_type": "stream",
     "text": [
      "Epoch 1/100\n",
      "1070/1070 [==============================] - 0s 450us/step - loss: 317553752.3738 - acc: 0.0000e+00\n",
      "Epoch 2/100\n",
      "1070/1070 [==============================] - 0s 47us/step - loss: 316757592.2841 - acc: 0.0000e+00\n",
      "Epoch 3/100\n",
      "1070/1070 [==============================] - 0s 47us/step - loss: 312310530.0935 - acc: 0.0000e+00\n",
      "Epoch 4/100\n",
      "1070/1070 [==============================] - 0s 46us/step - loss: 296418952.9720 - acc: 0.0000e+00\n",
      "Epoch 5/100\n",
      "1070/1070 [==============================] - 0s 49us/step - loss: 258640377.9589 - acc: 0.0000e+00\n",
      "Epoch 6/100\n",
      "1070/1070 [==============================] - 0s 47us/step - loss: 191615298.6467 - acc: 0.0000e+00\n",
      "Epoch 7/100\n",
      "1070/1070 [==============================] - 0s 47us/step - loss: 114156690.1832 - acc: 0.0000e+00\n",
      "Epoch 8/100\n",
      "1070/1070 [==============================] - 0s 47us/step - loss: 66965465.4280 - acc: 0.0000e+00\n",
      "Epoch 9/100\n",
      "1070/1070 [==============================] - 0s 70us/step - loss: 50568031.1626 - acc: 0.0000e+00\n",
      "Epoch 10/100\n",
      "1070/1070 [==============================] - 0s 47us/step - loss: 44505097.3383 - acc: 0.0000e+00\n",
      "Epoch 11/100\n",
      "1070/1070 [==============================] - 0s 46us/step - loss: 40861523.8953 - acc: 0.0000e+00\n",
      "Epoch 12/100\n",
      "1070/1070 [==============================] - 0s 45us/step - loss: 38636639.8860 - acc: 0.0000e+00\n",
      "Epoch 13/100\n",
      "1070/1070 [==============================] - 0s 46us/step - loss: 37297634.9570 - acc: 0.0000e+00\n",
      "Epoch 14/100\n",
      "1070/1070 [==============================] - 0s 45us/step - loss: 36310527.3981 - acc: 0.0000e+00\n",
      "Epoch 15/100\n",
      "1070/1070 [==============================] - 0s 47us/step - loss: 35703381.5626 - acc: 0.0000e+00\n",
      "Epoch 16/100\n",
      "1070/1070 [==============================] - 0s 46us/step - loss: 35233025.5103 - acc: 0.0000e+00\n",
      "Epoch 17/100\n",
      "1070/1070 [==============================] - 0s 45us/step - loss: 34890916.0972 - acc: 0.0000e+00\n",
      "Epoch 18/100\n",
      "1070/1070 [==============================] - 0s 45us/step - loss: 34625848.5121 - acc: 0.0000e+00\n",
      "Epoch 19/100\n",
      "1070/1070 [==============================] - 0s 45us/step - loss: 34418070.3346 - acc: 0.0000e+00\n",
      "Epoch 20/100\n",
      "1070/1070 [==============================] - 0s 46us/step - loss: 34063518.6486 - acc: 0.0000e+00\n",
      "Epoch 21/100\n",
      "1070/1070 [==============================] - 0s 46us/step - loss: 33937938.1869 - acc: 0.0000e+00\n",
      "Epoch 22/100\n",
      "1070/1070 [==============================] - 0s 46us/step - loss: 33669783.3047 - acc: 0.0000e+00\n",
      "Epoch 23/100\n",
      "1070/1070 [==============================] - 0s 46us/step - loss: 33459975.4991 - acc: 0.0000e+00\n",
      "Epoch 24/100\n",
      "1070/1070 [==============================] - 0s 46us/step - loss: 33297724.2093 - acc: 0.0000e+00\n",
      "Epoch 25/100\n",
      "1070/1070 [==============================] - 0s 46us/step - loss: 33112686.9234 - acc: 0.0000e+00\n",
      "Epoch 26/100\n",
      "1070/1070 [==============================] - 0s 46us/step - loss: 32873309.9402 - acc: 0.0000e+00\n",
      "Epoch 27/100\n",
      "1070/1070 [==============================] - 0s 45us/step - loss: 32677201.0168 - acc: 0.0000e+00\n",
      "Epoch 28/100\n",
      "1070/1070 [==============================] - 0s 46us/step - loss: 32546634.3738 - acc: 0.0000e+00\n",
      "Epoch 29/100\n",
      "1070/1070 [==============================] - 0s 50us/step - loss: 32321850.8748 - acc: 0.0000e+00\n",
      "Epoch 30/100\n",
      "1070/1070 [==============================] - 0s 69us/step - loss: 32242009.2150 - acc: 0.0000e+00\n",
      "Epoch 31/100\n",
      "1070/1070 [==============================] - 0s 46us/step - loss: 31915832.5009 - acc: 0.0000e+00\n",
      "Epoch 32/100\n",
      "1070/1070 [==============================] - 0s 47us/step - loss: 31734150.0822 - acc: 0.0000e+00\n",
      "Epoch 33/100\n",
      "1070/1070 [==============================] - 0s 45us/step - loss: 31575016.6879 - acc: 0.0000e+00\n",
      "Epoch 34/100\n",
      "1070/1070 [==============================] - 0s 46us/step - loss: 31396227.9290 - acc: 0.0000e+00\n",
      "Epoch 35/100\n",
      "1070/1070 [==============================] - 0s 46us/step - loss: 31124723.9196 - acc: 0.0000e+00\n",
      "Epoch 36/100\n",
      "1070/1070 [==============================] - 0s 46us/step - loss: 30971808.5458 - acc: 0.0000e+00\n",
      "Epoch 37/100\n",
      "1070/1070 [==============================] - 0s 45us/step - loss: 30781698.0318 - acc: 0.0000e+00\n",
      "Epoch 38/100\n",
      "1070/1070 [==============================] - 0s 47us/step - loss: 30550700.1981 - acc: 0.0000e+00\n",
      "Epoch 39/100\n",
      "1070/1070 [==============================] - 0s 47us/step - loss: 30410905.9271 - acc: 0.0000e+00\n",
      "Epoch 40/100\n",
      "1070/1070 [==============================] - 0s 45us/step - loss: 30207059.8505 - acc: 0.0000e+00\n",
      "Epoch 41/100\n",
      "1070/1070 [==============================] - 0s 45us/step - loss: 30089193.5626 - acc: 0.0000e+00\n",
      "Epoch 42/100\n",
      "1070/1070 [==============================] - 0s 45us/step - loss: 29964877.3907 - acc: 0.0000e+00\n",
      "Epoch 43/100\n",
      "1070/1070 [==============================] - 0s 46us/step - loss: 29725363.8505 - acc: 0.0000e+00\n",
      "Epoch 44/100\n",
      "1070/1070 [==============================] - 0s 45us/step - loss: 29671085.2336 - acc: 0.0000e+00\n",
      "Epoch 45/100\n",
      "1070/1070 [==============================] - 0s 46us/step - loss: 29408759.1776 - acc: 0.0000e+00\n",
      "Epoch 46/100\n",
      "1070/1070 [==============================] - 0s 45us/step - loss: 29280102.7925 - acc: 0.0000e+00\n",
      "Epoch 47/100\n",
      "1070/1070 [==============================] - 0s 44us/step - loss: 29117572.8673 - acc: 0.0000e+00\n",
      "Epoch 48/100\n",
      "1070/1070 [==============================] - 0s 47us/step - loss: 28997190.3252 - acc: 0.0000e+00\n",
      "Epoch 49/100\n",
      "1070/1070 [==============================] - 0s 46us/step - loss: 28859347.5738 - acc: 0.0000e+00\n",
      "Epoch 50/100\n",
      "1070/1070 [==============================] - 0s 64us/step - loss: 28803704.1724 - acc: 0.0000e+00\n",
      "Epoch 51/100\n",
      "1070/1070 [==============================] - 0s 47us/step - loss: 28605165.6822 - acc: 0.0000e+00\n",
      "Epoch 52/100\n",
      "1070/1070 [==============================] - 0s 45us/step - loss: 28517199.7458 - acc: 0.0000e+00\n",
      "Epoch 53/100\n",
      "1070/1070 [==============================] - 0s 46us/step - loss: 28346427.7757 - acc: 0.0000e+00\n",
      "Epoch 54/100\n",
      "1070/1070 [==============================] - 0s 47us/step - loss: 28274347.8467 - acc: 0.0000e+00\n",
      "Epoch 55/100\n",
      "1070/1070 [==============================] - 0s 47us/step - loss: 28112484.0897 - acc: 0.0000e+00\n",
      "Epoch 56/100\n",
      "1070/1070 [==============================] - 0s 48us/step - loss: 28059190.3963 - acc: 0.0000e+00\n",
      "Epoch 57/100\n",
      "1070/1070 [==============================] - 0s 48us/step - loss: 27957679.4542 - acc: 0.0000e+00\n",
      "Epoch 58/100\n",
      "1070/1070 [==============================] - 0s 47us/step - loss: 27852979.1738 - acc: 0.0000e+00\n",
      "Epoch 59/100\n",
      "1070/1070 [==============================] - 0s 47us/step - loss: 27722017.2411 - acc: 0.0000e+00\n",
      "Epoch 60/100\n",
      "1070/1070 [==============================] - 0s 47us/step - loss: 27659311.2748 - acc: 0.0000e+00\n",
      "Epoch 61/100\n",
      "1070/1070 [==============================] - 0s 48us/step - loss: 27619225.9290 - acc: 0.0000e+00\n",
      "Epoch 62/100\n",
      "1070/1070 [==============================] - 0s 46us/step - loss: 27511361.4879 - acc: 0.0000e+00\n",
      "Epoch 63/100\n",
      "1070/1070 [==============================] - 0s 47us/step - loss: 27422850.2206 - acc: 0.0000e+00\n",
      "Epoch 64/100\n",
      "1070/1070 [==============================] - 0s 46us/step - loss: 27482825.2935 - acc: 0.0000e+00\n",
      "Epoch 65/100\n",
      "1070/1070 [==============================] - 0s 46us/step - loss: 27273093.7234 - acc: 0.0000e+00\n",
      "Epoch 66/100\n",
      "1070/1070 [==============================] - 0s 45us/step - loss: 27198513.2187 - acc: 0.0000e+00\n",
      "Epoch 67/100\n",
      "1070/1070 [==============================] - 0s 45us/step - loss: 27145223.0299 - acc: 0.0000e+00\n",
      "Epoch 68/100\n",
      "1070/1070 [==============================] - 0s 45us/step - loss: 27086187.9178 - acc: 0.0000e+00\n",
      "Epoch 69/100\n",
      "1070/1070 [==============================] - 0s 45us/step - loss: 26976796.1439 - acc: 0.0000e+00\n",
      "Epoch 70/100\n",
      "1070/1070 [==============================] - 0s 48us/step - loss: 26964740.6668 - acc: 0.0000e+00\n",
      "Epoch 71/100\n",
      "1070/1070 [==============================] - 0s 79us/step - loss: 26925132.5757 - acc: 0.0000e+00\n",
      "Epoch 72/100\n",
      "1070/1070 [==============================] - 0s 50us/step - loss: 26815826.5131 - acc: 0.0000e+00\n",
      "Epoch 73/100\n",
      "1070/1070 [==============================] - 0s 49us/step - loss: 26730977.8841 - acc: 0.0000e+00\n",
      "Epoch 74/100\n"
     ]
    },
    {
     "name": "stdout",
     "output_type": "stream",
     "text": [
      "1070/1070 [==============================] - 0s 46us/step - loss: 26700395.1850 - acc: 0.0000e+00\n",
      "Epoch 75/100\n",
      "1070/1070 [==============================] - 0s 46us/step - loss: 26631673.4523 - acc: 0.0000e+00\n",
      "Epoch 76/100\n",
      "1070/1070 [==============================] - 0s 44us/step - loss: 26604036.0972 - acc: 0.0000e+00\n",
      "Epoch 77/100\n",
      "1070/1070 [==============================] - 0s 46us/step - loss: 26722233.2187 - acc: 0.0000e+00\n",
      "Epoch 78/100\n",
      "1070/1070 [==============================] - 0s 44us/step - loss: 26497227.9028 - acc: 0.0000e+00\n",
      "Epoch 79/100\n",
      "1070/1070 [==============================] - 0s 45us/step - loss: 26507241.1953 - acc: 0.0000e+00\n",
      "Epoch 80/100\n",
      "1070/1070 [==============================] - 0s 45us/step - loss: 26330718.2692 - acc: 0.0000e+00\n",
      "Epoch 81/100\n",
      "1070/1070 [==============================] - 0s 45us/step - loss: 26282688.7430 - acc: 0.0000e+00\n",
      "Epoch 82/100\n",
      "1070/1070 [==============================] - 0s 45us/step - loss: 26264062.9907 - acc: 0.0000e+00\n",
      "Epoch 83/100\n",
      "1070/1070 [==============================] - 0s 44us/step - loss: 26220138.4935 - acc: 0.0000e+00\n",
      "Epoch 84/100\n",
      "1070/1070 [==============================] - 0s 45us/step - loss: 26235215.1551 - acc: 0.0000e+00\n",
      "Epoch 85/100\n",
      "1070/1070 [==============================] - 0s 46us/step - loss: 26153534.9981 - acc: 0.0000e+00\n",
      "Epoch 86/100\n",
      "1070/1070 [==============================] - 0s 44us/step - loss: 26080856.0617 - acc: 0.0000e+00\n",
      "Epoch 87/100\n",
      "1070/1070 [==============================] - 0s 45us/step - loss: 26091611.3785 - acc: 0.0000e+00\n",
      "Epoch 88/100\n",
      "1070/1070 [==============================] - 0s 45us/step - loss: 26027615.3271 - acc: 0.0000e+00\n",
      "Epoch 89/100\n",
      "1070/1070 [==============================] - 0s 45us/step - loss: 26013372.1421 - acc: 0.0000e+00\n",
      "Epoch 90/100\n",
      "1070/1070 [==============================] - 0s 45us/step - loss: 26008782.3551 - acc: 0.0000e+00\n",
      "Epoch 91/100\n",
      "1070/1070 [==============================] - 0s 70us/step - loss: 25906496.0299 - acc: 0.0000e+00\n",
      "Epoch 92/100\n",
      "1070/1070 [==============================] - 0s 45us/step - loss: 25913110.2617 - acc: 0.0000e+00\n",
      "Epoch 93/100\n",
      "1070/1070 [==============================] - 0s 45us/step - loss: 25820533.1084 - acc: 0.0000e+00\n",
      "Epoch 94/100\n",
      "1070/1070 [==============================] - 0s 45us/step - loss: 25791233.9551 - acc: 0.0000e+00\n",
      "Epoch 95/100\n",
      "1070/1070 [==============================] - 0s 45us/step - loss: 25816224.8299 - acc: 0.0000e+00\n",
      "Epoch 96/100\n",
      "1070/1070 [==============================] - 0s 45us/step - loss: 25711007.5514 - acc: 0.0000e+00\n",
      "Epoch 97/100\n",
      "1070/1070 [==============================] - 0s 44us/step - loss: 25827711.3355 - acc: 0.0000e+00\n",
      "Epoch 98/100\n",
      "1070/1070 [==============================] - 0s 45us/step - loss: 25657500.3178 - acc: 0.0000e+00\n",
      "Epoch 99/100\n",
      "1070/1070 [==============================] - 0s 45us/step - loss: 25619207.4467 - acc: 0.0000e+00\n",
      "Epoch 100/100\n",
      "1070/1070 [==============================] - 0s 45us/step - loss: 25568029.8991 - acc: 0.0000e+00\n"
     ]
    },
    {
     "data": {
      "text/plain": [
       "<keras.callbacks.History at 0x267ae84cd68>"
      ]
     },
     "execution_count": 22,
     "metadata": {},
     "output_type": "execute_result"
    }
   ],
   "source": [
    "# Train Model\n",
    "model.fit(X_train,y_train,epochs=100,batch_size=32)"
   ]
  },
  {
   "cell_type": "code",
   "execution_count": 23,
   "metadata": {},
   "outputs": [
    {
     "name": "stdout",
     "output_type": "stream",
     "text": [
      "r2_score: 0.8265459021544783\n"
     ]
    }
   ],
   "source": [
    "# Test the Model\n",
    "y_pred = model.predict(X_test)\n",
    "print('r2_score: '+str(r2_score(y_test, y_pred)))"
   ]
  },
  {
   "cell_type": "code",
   "execution_count": null,
   "metadata": {},
   "outputs": [],
   "source": []
  }
 ],
 "metadata": {
  "kernelspec": {
   "display_name": "Python 3",
   "language": "python",
   "name": "python3"
  },
  "language_info": {
   "codemirror_mode": {
    "name": "ipython",
    "version": 3
   },
   "file_extension": ".py",
   "mimetype": "text/x-python",
   "name": "python",
   "nbconvert_exporter": "python",
   "pygments_lexer": "ipython3",
   "version": "3.7.3"
  }
 },
 "nbformat": 4,
 "nbformat_minor": 4
}
