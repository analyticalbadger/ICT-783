{
 "cells": [
  {
   "cell_type": "markdown",
   "metadata": {},
   "source": [
    "# Chocolate"
   ]
  },
  {
   "cell_type": "markdown",
   "metadata": {},
   "source": [
    "### Import Libraries"
   ]
  },
  {
   "cell_type": "code",
   "execution_count": 1,
   "metadata": {},
   "outputs": [],
   "source": [
    "import pandas as pd\n",
    "import matplotlib.pyplot as plt\n",
    "import numpy as np\n",
    "%matplotlib inline\n",
    "\n",
    "from sklearn.preprocessing import MinMaxScaler\n",
    "from sklearn.preprocessing import OrdinalEncoder"
   ]
  },
  {
   "cell_type": "markdown",
   "metadata": {},
   "source": [
    "### Import Data and Explore"
   ]
  },
  {
   "cell_type": "code",
   "execution_count": 2,
   "metadata": {},
   "outputs": [],
   "source": [
    "chocolate = pd.read_csv('flavors_of_cacao.csv')"
   ]
  },
  {
   "cell_type": "code",
   "execution_count": 3,
   "metadata": {},
   "outputs": [
    {
     "data": {
      "text/html": [
       "<div>\n",
       "<style scoped>\n",
       "    .dataframe tbody tr th:only-of-type {\n",
       "        vertical-align: middle;\n",
       "    }\n",
       "\n",
       "    .dataframe tbody tr th {\n",
       "        vertical-align: top;\n",
       "    }\n",
       "\n",
       "    .dataframe thead th {\n",
       "        text-align: right;\n",
       "    }\n",
       "</style>\n",
       "<table border=\"1\" class=\"dataframe\">\n",
       "  <thead>\n",
       "    <tr style=\"text-align: right;\">\n",
       "      <th></th>\n",
       "      <th>Company \n",
       "(Maker-if known)</th>\n",
       "      <th>Specific Bean Origin\n",
       "or Bar Name</th>\n",
       "      <th>REF</th>\n",
       "      <th>Review\n",
       "Date</th>\n",
       "      <th>Cocoa\n",
       "Percent</th>\n",
       "      <th>Company\n",
       "Location</th>\n",
       "      <th>Rating</th>\n",
       "      <th>Bean\n",
       "Type</th>\n",
       "      <th>Broad Bean\n",
       "Origin</th>\n",
       "    </tr>\n",
       "  </thead>\n",
       "  <tbody>\n",
       "    <tr>\n",
       "      <th>0</th>\n",
       "      <td>A. Morin</td>\n",
       "      <td>Agua Grande</td>\n",
       "      <td>1876</td>\n",
       "      <td>2016</td>\n",
       "      <td>63%</td>\n",
       "      <td>France</td>\n",
       "      <td>3.75</td>\n",
       "      <td></td>\n",
       "      <td>Sao Tome</td>\n",
       "    </tr>\n",
       "    <tr>\n",
       "      <th>1</th>\n",
       "      <td>A. Morin</td>\n",
       "      <td>Kpime</td>\n",
       "      <td>1676</td>\n",
       "      <td>2015</td>\n",
       "      <td>70%</td>\n",
       "      <td>France</td>\n",
       "      <td>2.75</td>\n",
       "      <td></td>\n",
       "      <td>Togo</td>\n",
       "    </tr>\n",
       "    <tr>\n",
       "      <th>2</th>\n",
       "      <td>A. Morin</td>\n",
       "      <td>Atsane</td>\n",
       "      <td>1676</td>\n",
       "      <td>2015</td>\n",
       "      <td>70%</td>\n",
       "      <td>France</td>\n",
       "      <td>3.00</td>\n",
       "      <td></td>\n",
       "      <td>Togo</td>\n",
       "    </tr>\n",
       "    <tr>\n",
       "      <th>3</th>\n",
       "      <td>A. Morin</td>\n",
       "      <td>Akata</td>\n",
       "      <td>1680</td>\n",
       "      <td>2015</td>\n",
       "      <td>70%</td>\n",
       "      <td>France</td>\n",
       "      <td>3.50</td>\n",
       "      <td></td>\n",
       "      <td>Togo</td>\n",
       "    </tr>\n",
       "    <tr>\n",
       "      <th>4</th>\n",
       "      <td>A. Morin</td>\n",
       "      <td>Quilla</td>\n",
       "      <td>1704</td>\n",
       "      <td>2015</td>\n",
       "      <td>70%</td>\n",
       "      <td>France</td>\n",
       "      <td>3.50</td>\n",
       "      <td></td>\n",
       "      <td>Peru</td>\n",
       "    </tr>\n",
       "  </tbody>\n",
       "</table>\n",
       "</div>"
      ],
      "text/plain": [
       "  Company \\n(Maker-if known) Specific Bean Origin\\nor Bar Name   REF  \\\n",
       "0                   A. Morin                       Agua Grande  1876   \n",
       "1                   A. Morin                             Kpime  1676   \n",
       "2                   A. Morin                            Atsane  1676   \n",
       "3                   A. Morin                             Akata  1680   \n",
       "4                   A. Morin                            Quilla  1704   \n",
       "\n",
       "   Review\\nDate Cocoa\\nPercent Company\\nLocation  Rating Bean\\nType  \\\n",
       "0          2016            63%            France    3.75              \n",
       "1          2015            70%            France    2.75              \n",
       "2          2015            70%            France    3.00              \n",
       "3          2015            70%            France    3.50              \n",
       "4          2015            70%            France    3.50              \n",
       "\n",
       "  Broad Bean\\nOrigin  \n",
       "0           Sao Tome  \n",
       "1               Togo  \n",
       "2               Togo  \n",
       "3               Togo  \n",
       "4               Peru  "
      ]
     },
     "execution_count": 3,
     "metadata": {},
     "output_type": "execute_result"
    }
   ],
   "source": [
    "chocolate.head()"
   ]
  },
  {
   "cell_type": "code",
   "execution_count": 4,
   "metadata": {},
   "outputs": [
    {
     "name": "stdout",
     "output_type": "stream",
     "text": [
      "<class 'pandas.core.frame.DataFrame'>\n",
      "RangeIndex: 1795 entries, 0 to 1794\n",
      "Data columns (total 9 columns):\n",
      "Company \n",
      "(Maker-if known)           1795 non-null object\n",
      "Specific Bean Origin\n",
      "or Bar Name    1795 non-null object\n",
      "REF                                 1795 non-null int64\n",
      "Review\n",
      "Date                         1795 non-null int64\n",
      "Cocoa\n",
      "Percent                       1795 non-null object\n",
      "Company\n",
      "Location                    1795 non-null object\n",
      "Rating                              1795 non-null float64\n",
      "Bean\n",
      "Type                           1794 non-null object\n",
      "Broad Bean\n",
      "Origin                   1794 non-null object\n",
      "dtypes: float64(1), int64(2), object(6)\n",
      "memory usage: 126.3+ KB\n"
     ]
    }
   ],
   "source": [
    "chocolate.info()"
   ]
  },
  {
   "cell_type": "code",
   "execution_count": 5,
   "metadata": {},
   "outputs": [],
   "source": [
    "# Delete Missing Value Entries\n",
    "chocolate = chocolate.dropna()"
   ]
  },
  {
   "cell_type": "code",
   "execution_count": 6,
   "metadata": {},
   "outputs": [],
   "source": [
    "# Rename Columns with Weird Formatting\n",
    "chocolate = chocolate.rename(columns = {'Company\\xa0\\n(Maker-if known)':'Company',\n",
    "                                        'Specific Bean Origin\\nor Bar Name':'Specific_Bean_Origin_or_Bar_Name',\n",
    "                                        'Review\\nDate':'Review_Date',\n",
    "                                        'Cocoa\\nPercent':'Cocoa_Percent',\n",
    "                                        'Company\\nLocation':'Company_Location',\n",
    "                                        'Bean\\nType':'Bean_Type',\n",
    "                                        'Broad Bean\\nOrigin':'Broad_Bean_Origin'}) "
   ]
  },
  {
   "cell_type": "markdown",
   "metadata": {},
   "source": [
    "### Questions"
   ]
  },
  {
   "cell_type": "code",
   "execution_count": 7,
   "metadata": {},
   "outputs": [
    {
     "data": {
      "text/plain": [
       "1793"
      ]
     },
     "execution_count": 7,
     "metadata": {},
     "output_type": "execute_result"
    }
   ],
   "source": [
    "# How many tuples are there in the dataset? (rows)\n",
    "index = chocolate.index\n",
    "number_of_tuples = len(index)\n",
    "number_of_tuples"
   ]
  },
  {
   "cell_type": "code",
   "execution_count": 8,
   "metadata": {},
   "outputs": [
    {
     "data": {
      "text/plain": [
       "416"
      ]
     },
     "execution_count": 8,
     "metadata": {},
     "output_type": "execute_result"
    }
   ],
   "source": [
    "# How many unique company names are there in the dataset?\n",
    "chocolate['Company'].nunique()"
   ]
  },
  {
   "cell_type": "code",
   "execution_count": 9,
   "metadata": {},
   "outputs": [
    {
     "data": {
      "text/plain": [
       "184"
      ]
     },
     "execution_count": 9,
     "metadata": {},
     "output_type": "execute_result"
    }
   ],
   "source": [
    "# How many reviews are made in 2013 in the dataset?\n",
    "len(chocolate[chocolate['Review_Date'] == 2013])"
   ]
  },
  {
   "cell_type": "code",
   "execution_count": 10,
   "metadata": {},
   "outputs": [
    {
     "data": {
      "text/plain": [
       "                            887\n",
       "Trinitario                  418\n",
       "Criollo                     153\n",
       "Forastero                    87\n",
       "Forastero (Nacional)         52\n",
       "Blend                        41\n",
       "Criollo, Trinitario          39\n",
       "Forastero (Arriba)           37\n",
       "Criollo (Porcelana)          10\n",
       "Trinitario, Criollo           9\n",
       "Forastero (Parazinho)         8\n",
       "Forastero (Arriba) ASS        6\n",
       "Nacional (Arriba)             3\n",
       "EET                           3\n",
       "Matina                        3\n",
       "Beniano                       3\n",
       "Nacional                      2\n",
       "Trinitario (85% Criollo)      2\n",
       "Criollo (Ocumare 61)          2\n",
       "Trinitario, Forastero         2\n",
       "Amazon mix                    2\n",
       "Forastero (Catongo)           2\n",
       "Amazon, ICS                   2\n",
       "Criollo (Amarru)              2\n",
       "Criollo, Forastero            2\n",
       "Trinitario, TCGA              1\n",
       "Forastero(Arriba, CCN)        1\n",
       "Trinitario, Nacional          1\n",
       "Criollo (Ocumare 77)          1\n",
       "Trinitario (Scavina)          1\n",
       "Blend-Forastero,Criollo       1\n",
       "Trinitario (Amelonado)        1\n",
       "Criollo (Ocumare)             1\n",
       "Forastero (Arriba) ASSS       1\n",
       "Criollo, +                    1\n",
       "Amazon                        1\n",
       "Forastero (Amelonado)         1\n",
       "Forastero, Trinitario         1\n",
       "CCN51                         1\n",
       "Criollo (Ocumare 67)          1\n",
       "Criollo (Wild)                1\n",
       "Name: Bean_Type, dtype: int64"
      ]
     },
     "execution_count": 10,
     "metadata": {},
     "output_type": "execute_result"
    }
   ],
   "source": [
    "# In the BeanType Column, how many missing values are there?\n",
    "# Check values present\n",
    "chocolate['Bean_Type'].value_counts()"
   ]
  },
  {
   "cell_type": "code",
   "execution_count": 11,
   "metadata": {},
   "outputs": [],
   "source": [
    "# Appears to be a blanked out value, replace white space with NaN\n",
    "chocolate_cut = chocolate.replace(r'^\\s*$', np.nan, regex=True)"
   ]
  },
  {
   "cell_type": "code",
   "execution_count": 12,
   "metadata": {},
   "outputs": [
    {
     "data": {
      "text/plain": [
       "887"
      ]
     },
     "execution_count": 12,
     "metadata": {},
     "output_type": "execute_result"
    }
   ],
   "source": [
    "# In the BeanType Column, how many missing values are there?\n",
    "chocolate_cut['Bean_Type'].isnull().sum(axis=0)"
   ]
  },
  {
   "cell_type": "code",
   "execution_count": 13,
   "metadata": {},
   "outputs": [
    {
     "data": {
      "image/png": "[encoded data removed]",
      "text/plain": [
       "<Figure size 432x288 with 1 Axes>"
      ]
     },
     "metadata": {
      "needs_background": "light"
     },
     "output_type": "display_data"
    }
   ],
   "source": [
    "#Visualize the ratings column with a histogram\n",
    "plt.hist(chocolate['Rating'])\n",
    "plt.title(\"Histogram of Rating\")\n",
    "plt.xlabel(\"Rating\")\n",
    "plt.ylabel(\"Frequency\")\n",
    "plt.show()"
   ]
  },
  {
   "cell_type": "code",
   "execution_count": 14,
   "metadata": {},
   "outputs": [],
   "source": [
    "#Ratings are most frequent between 3 and 3.5\n",
    "#Histogram skewed toward lower ratings"
   ]
  },
  {
   "cell_type": "code",
   "execution_count": 15,
   "metadata": {},
   "outputs": [],
   "source": [
    "# Change the type of values in the column percent from string values to numerical values.\n",
    "chocolate['Cocoa_Percent'] = chocolate['Cocoa_Percent'].apply(lambda x: x.replace('%', '')).astype('float') / 100"
   ]
  },
  {
   "cell_type": "code",
   "execution_count": 16,
   "metadata": {},
   "outputs": [
    {
     "data": {
      "image/png": "[encoded data removed]",
      "text/plain": [
       "<Figure size 432x288 with 1 Axes>"
      ]
     },
     "metadata": {
      "needs_background": "light"
     },
     "output_type": "display_data"
    }
   ],
   "source": [
    "# Plot the converted numerical Cocoa Percent values against the Rating values\n",
    "plt.scatter(chocolate['Rating'], chocolate['Cocoa_Percent'], alpha=0.1)\n",
    "plt.title(\"Rating Versus Cocoa Percent\")\n",
    "plt.xlabel(\"Rating\")\n",
    "plt.ylabel(\"Cocoa Percent\")\n",
    "plt.show()"
   ]
  },
  {
   "cell_type": "code",
   "execution_count": 17,
   "metadata": {},
   "outputs": [],
   "source": [
    "# From what you see, does more cocoa in a bar correspond to a higher rating?\n",
    "# No, higher ratings seem to be centered closer to 70% cocoa"
   ]
  },
  {
   "cell_type": "code",
   "execution_count": 18,
   "metadata": {},
   "outputs": [
    {
     "name": "stdout",
     "output_type": "stream",
     "text": [
      "[[0.6875]\n",
      " [0.4375]\n",
      " [0.5   ]\n",
      " ...\n",
      " [0.625 ]\n",
      " [0.5625]\n",
      " [0.5   ]]\n"
     ]
    }
   ],
   "source": [
    "#Normalize the Ratings Column and print the results.\n",
    "X = chocolate['Rating'].values.reshape(-1, 1)\n",
    "scaler = MinMaxScaler()\n",
    "scaled_X = scaler.fit_transform(X)\n",
    "chocolate['Rating'] = scaled_X\n",
    "print(scaled_X)"
   ]
  },
  {
   "cell_type": "code",
   "execution_count": 19,
   "metadata": {},
   "outputs": [
    {
     "name": "stdout",
     "output_type": "stream",
     "text": [
      "Company\n",
      "Tobago Estate (Pralus)                  0.750000\n",
      "Heirloom Cacao Preservation (Zokoko)    0.718750\n",
      "Ocelot                                  0.718750\n",
      "Amedei                                  0.711538\n",
      "Matale                                  0.703125\n",
      "Patric                                  0.697917\n",
      "Idilio (Felchlin)                       0.693750\n",
      "Timo A. Meyer                           0.687500\n",
      "Christopher Morel (Felchlin)            0.687500\n",
      "Chocola'te                              0.687500\n",
      "Obolo                                   0.687500\n",
      "Un Dimanche A Paris                     0.687500\n",
      "Kerchner                                0.687500\n",
      "Dole (Guittard)                         0.687500\n",
      "Acalli                                  0.687500\n",
      "Benoit Nihant                           0.677083\n",
      "Madecasse (Cinagra)                     0.671875\n",
      "Cacao Sampaka                           0.666667\n",
      "Just Good Chocolate                     0.666667\n",
      "Franceschi                              0.656250\n",
      "Captain Pembleton                       0.656250\n",
      "Mission                                 0.656250\n",
      "Bar Au Chocolat                         0.650000\n",
      "Soma                                    0.644022\n",
      "Brasstown aka It's Chocolate            0.638889\n",
      "Zokoko                                  0.637500\n",
      "Georgia Ramon                           0.637500\n",
      "Arete                                   0.633523\n",
      "Ritual                                  0.631944\n",
      "Smooth Chocolator, The                  0.628906\n",
      "                                          ...   \n",
      "Vintage Plantations (Tulicorp)          0.375000\n",
      "Hachez                                  0.375000\n",
      "Oakland Chocolate Co.                   0.375000\n",
      "Lake Champlain (Callebaut)              0.375000\n",
      "Whittakers                              0.375000\n",
      "Indah                                   0.375000\n",
      "La Oroquidea                            0.375000\n",
      "Mita                                    0.375000\n",
      "Garden Island                           0.375000\n",
      "Neuhaus (Callebaut)                     0.375000\n",
      "Desbarres                               0.375000\n",
      "Menakao (aka Cinagra)                   0.375000\n",
      "Sibu Sura                               0.375000\n",
      "Loiza                                   0.375000\n",
      "Chocolate Alchemist-Philly              0.375000\n",
      "Pinellas                                0.375000\n",
      "Paul Young                              0.375000\n",
      "Chocolats Privilege                     0.375000\n",
      "Cacao Arabuco                           0.375000\n",
      "Bouga Cacao (Tulicorp)                  0.343750\n",
      "Marsatta                                0.343750\n",
      "Dolfin (Belcolade)                      0.312500\n",
      "Shark's                                 0.312500\n",
      "Majani                                  0.250000\n",
      "Ki' Xocolatl                            0.250000\n",
      "Jacque Torres                           0.250000\n",
      "Love Bar                                0.250000\n",
      "Callebaut                               0.218750\n",
      "Machu Picchu Trading Co.                0.218750\n",
      "Cote d' Or (Kraft)                      0.000000\n",
      "Name: Rating, Length: 416, dtype: float64\n"
     ]
    }
   ],
   "source": [
    "# List the companies ordered by their average score (averaged over each company’s reviews).\n",
    "cs = chocolate.groupby('Company')['Rating'].mean()\n",
    "css = cs.sort_values(ascending=False)\n",
    "print(css)"
   ]
  },
  {
   "cell_type": "code",
   "execution_count": 20,
   "metadata": {},
   "outputs": [
    {
     "name": "stdout",
     "output_type": "stream",
     "text": [
      "[[  0.  18.]\n",
      " [  0.  18.]\n",
      " [  0.  18.]\n",
      " ...\n",
      " [410.   3.]\n",
      " [410.   3.]\n",
      " [410.   3.]]\n"
     ]
    }
   ],
   "source": [
    "#Suppose we are interested in the company’s names and locations for some collective analysis. \n",
    "#Encode the two categorical columns with the encoder you think is best for the job.\n",
    "X = chocolate[['Company','Company_Location']]\n",
    "encoder = OrdinalEncoder()\n",
    "encoded_X = encoder.fit_transform(X)\n",
    "print(encoded_X)"
   ]
  },
  {
   "cell_type": "code",
   "execution_count": null,
   "metadata": {},
   "outputs": [],
   "source": []
  }
 ],
 "metadata": {
  "kernelspec": {
   "display_name": "Python 3",
   "language": "python",
   "name": "python3"
  },
  "language_info": {
   "codemirror_mode": {
    "name": "ipython",
    "version": 3
   },
   "file_extension": ".py",
   "mimetype": "text/x-python",
   "name": "python",
   "nbconvert_exporter": "python",
   "pygments_lexer": "ipython3",
   "version": "3.7.3"
  }
 },
 "nbformat": 4,
 "nbformat_minor": 2
}
